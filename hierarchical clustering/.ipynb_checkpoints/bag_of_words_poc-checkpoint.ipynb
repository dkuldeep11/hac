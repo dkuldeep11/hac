{
 "metadata": {
  "name": "",
  "signature": "sha256:f7886093ae3c51c684be489a02b97c64ceab0709d662c59c35df904fe88dee64"
 },
 "nbformat": 3,
 "nbformat_minor": 0,
 "worksheets": [
  {
   "cells": [
    {
     "cell_type": "code",
     "collapsed": false,
     "input": [
      "#given corpus\n",
      "corpus = [\"this is doc1 ML this is doc1 ML\", \"is this right ML right\", \"yes seems great one ML great right\"]\n",
      "\n",
      "#bag of words i.e. SET\n",
      "bag_of_words = []\n",
      "\n",
      "#stop words\n",
      "stop_words = [\"this\", \"is\", \"yes\", \"seems\"]\n",
      "#read each doc, tokenize and put it in bag of words\n",
      "for d in corpus:\n",
      "    for w in d.split():\n",
      "        if w not in stop_words:\n",
      "            bag_of_words.append(w)\n",
      "\n",
      "#make a set i.e. unique list of words i.e. final bag of words\n",
      "bag_of_words = list(set(bag_of_words))\n",
      "print bag_of_words\n",
      "\n",
      "#make feature => index  map, which gives the index of value of the feature in vector\n",
      "dimensions_index_map = {}\n",
      "for i, w in enumerate(bag_of_words):\n",
      "    dimensions_index_map[w] = i\n",
      "#print dimensions_index_map\n",
      "\n",
      "#make document vectors corpus\n",
      "vector_corpus = []\n",
      "for d in corpus:\n",
      "    v1 = [0] * len(bag_of_words)\n",
      "    tokens = d.split()\n",
      "    for w in bag_of_words:\n",
      "        cnt = tokens.count(w)\n",
      "        v1[dimensions_index_map[w]] = cnt\n",
      "    vector_corpus.append(v1)\n",
      "        \n",
      "print vector_corpus\n",
      "        "
     ],
     "language": "python",
     "metadata": {},
     "outputs": [
      {
       "output_type": "stream",
       "stream": "stdout",
       "text": [
        "['ML', 'great', 'doc1', 'right', 'one']\n",
        "[[2, 0, 2, 0, 0], [1, 0, 0, 2, 0], [1, 2, 0, 1, 1]]\n"
       ]
      }
     ],
     "prompt_number": 16
    },
    {
     "cell_type": "code",
     "collapsed": false,
     "input": [],
     "language": "python",
     "metadata": {},
     "outputs": []
    }
   ],
   "metadata": {}
  }
 ]
}