{
 "metadata": {
  "name": "",
  "signature": "sha256:a670ac019530f69755898acc1593591c01e32f74265ce78baf2f6d6ee063140a"
 },
 "nbformat": 3,
 "nbformat_minor": 0,
 "worksheets": []
}