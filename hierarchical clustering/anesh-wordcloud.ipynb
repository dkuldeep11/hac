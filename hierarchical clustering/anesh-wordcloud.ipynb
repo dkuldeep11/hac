{
 "metadata": {
  "name": "",
  "signature": "sha256:88eeaaebaa4eef14f12490c9b5efc8e72e54c04e85318dd8d7e0ccfc1a2be387"
 },
 "nbformat": 3,
 "nbformat_minor": 0,
 "worksheets": [
  {
   "cells": [
    {
     "cell_type": "code",
     "collapsed": false,
     "input": [
      "from pytagcloud import create_tag_image, make_tags\n",
      "from pytagcloud.lang.counter import get_tag_counts\n",
      "\n",
      "YOUR_TEXT = \"A tag cloud is a visual representation for text data, typically\\\n",
      "used to depict keyword metadata on websites, or to visualize free form text.\"\n",
      "\n",
      "tags = make_tags(get_tag_counts(YOUR_TEXT), maxsize=120)\n",
      "\n",
      "create_tag_image(tags, 'cloud_large.png', size=(900, 600), fontname='Lobster')"
     ],
     "language": "python",
     "metadata": {},
     "outputs": [
      {
       "ename": "ImportError",
       "evalue": "No module named pygame",
       "output_type": "pyerr",
       "traceback": [
        "\u001b[0;31m---------------------------------------------------------------------------\u001b[0m\n\u001b[0;31mImportError\u001b[0m                               Traceback (most recent call last)",
        "\u001b[0;32m<ipython-input-1-ca8e7deb751e>\u001b[0m in \u001b[0;36m<module>\u001b[0;34m()\u001b[0m\n\u001b[0;32m----> 1\u001b[0;31m \u001b[0;32mfrom\u001b[0m \u001b[0mpytagcloud\u001b[0m \u001b[0;32mimport\u001b[0m \u001b[0mcreate_tag_image\u001b[0m\u001b[0;34m,\u001b[0m \u001b[0mmake_tags\u001b[0m\u001b[0;34m\u001b[0m\u001b[0m\n\u001b[0m\u001b[1;32m      2\u001b[0m \u001b[0;32mfrom\u001b[0m \u001b[0mpytagcloud\u001b[0m\u001b[0;34m.\u001b[0m\u001b[0mlang\u001b[0m\u001b[0;34m.\u001b[0m\u001b[0mcounter\u001b[0m \u001b[0;32mimport\u001b[0m \u001b[0mget_tag_counts\u001b[0m\u001b[0;34m\u001b[0m\u001b[0m\n\u001b[1;32m      3\u001b[0m \u001b[0;34m\u001b[0m\u001b[0m\n\u001b[1;32m      4\u001b[0m \u001b[0mYOUR_TEXT\u001b[0m \u001b[0;34m=\u001b[0m \u001b[0;34m\"A tag cloud is a visual representation for text data, typicallyused to depict keyword metadata on websites, or to visualize free form text.\"\u001b[0m\u001b[0;34m\u001b[0m\u001b[0m\n\u001b[1;32m      5\u001b[0m \u001b[0;34m\u001b[0m\u001b[0m\n",
        "\u001b[0;32m/Users/dholek/anaconda/lib/python2.7/site-packages/pytagcloud/__init__.py\u001b[0m in \u001b[0;36m<module>\u001b[0;34m()\u001b[0m\n\u001b[1;32m      2\u001b[0m \u001b[0;32mfrom\u001b[0m \u001b[0mcopy\u001b[0m \u001b[0;32mimport\u001b[0m \u001b[0mcopy\u001b[0m\u001b[0;34m\u001b[0m\u001b[0m\n\u001b[1;32m      3\u001b[0m \u001b[0;32mfrom\u001b[0m \u001b[0mmath\u001b[0m \u001b[0;32mimport\u001b[0m \u001b[0msin\u001b[0m\u001b[0;34m,\u001b[0m \u001b[0mcos\u001b[0m\u001b[0;34m,\u001b[0m \u001b[0mceil\u001b[0m\u001b[0;34m\u001b[0m\u001b[0m\n\u001b[0;32m----> 4\u001b[0;31m \u001b[0;32mfrom\u001b[0m \u001b[0mpygame\u001b[0m \u001b[0;32mimport\u001b[0m \u001b[0mtransform\u001b[0m\u001b[0;34m,\u001b[0m \u001b[0mfont\u001b[0m\u001b[0;34m,\u001b[0m \u001b[0mmask\u001b[0m\u001b[0;34m,\u001b[0m \u001b[0mSurface\u001b[0m\u001b[0;34m,\u001b[0m \u001b[0mRect\u001b[0m\u001b[0;34m,\u001b[0m \u001b[0mSRCALPHA\u001b[0m\u001b[0;34m,\u001b[0m \u001b[0mdraw\u001b[0m\u001b[0;34m\u001b[0m\u001b[0m\n\u001b[0m\u001b[1;32m      5\u001b[0m \u001b[0;32mfrom\u001b[0m \u001b[0mpygame\u001b[0m\u001b[0;34m.\u001b[0m\u001b[0msprite\u001b[0m \u001b[0;32mimport\u001b[0m \u001b[0mGroup\u001b[0m\u001b[0;34m,\u001b[0m \u001b[0mSprite\u001b[0m\u001b[0;34m,\u001b[0m \u001b[0mcollide_mask\u001b[0m\u001b[0;34m\u001b[0m\u001b[0m\n\u001b[1;32m      6\u001b[0m \u001b[0;32mfrom\u001b[0m \u001b[0mrandom\u001b[0m \u001b[0;32mimport\u001b[0m \u001b[0mrandint\u001b[0m\u001b[0;34m,\u001b[0m \u001b[0mchoice\u001b[0m\u001b[0;34m\u001b[0m\u001b[0m\n",
        "\u001b[0;31mImportError\u001b[0m: No module named pygame"
       ]
      }
     ],
     "prompt_number": 1
    },
    {
     "cell_type": "code",
     "collapsed": false,
     "input": [],
     "language": "python",
     "metadata": {},
     "outputs": []
    }
   ],
   "metadata": {}
  }
 ]
}