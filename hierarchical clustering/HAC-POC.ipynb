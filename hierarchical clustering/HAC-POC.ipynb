{
 "metadata": {
  "name": "",
  "signature": "sha256:931bd218fd52d3a1fcdb5bc5f7a7c9697c6fe961949b3c21d8e512783dda2dac"
 },
 "nbformat": 3,
 "nbformat_minor": 0,
 "worksheets": [
  {
   "cells": [
    {
     "cell_type": "code",
     "collapsed": false,
     "input": [
      "print \"Welcome to HAC-POC...\"\n",
      "\n",
      "class Point:\n",
      "        \n",
      "    def __init__(self,x,y):\n",
      "        self.x = x\n",
      "        self.y = y\n",
      "        \n",
      "    def setX(self,x):\n",
      "        self.x = x\n",
      "        \n",
      "    def setY(self,y):\n",
      "        self.y = y\n",
      "    \n",
      "    def getX(self):\n",
      "        return self.x\n",
      "    \n",
      "    def getY(self):\n",
      "        return self.y\n",
      "    \n",
      "    def show(self):\n",
      "        print \"X = \", self.x, \" and Y = \", self.y\n",
      "        \n",
      "    \n",
      "points = []\n",
      "\n",
      "points.append(Point(1,2))\n",
      "points.append(Point(1,5))\n",
      "points.append(Point(2,6))\n",
      "points.append(Point(3,1))\n",
      "points.append(Point(3,8))\n",
      "\n",
      "for p in points:\n",
      "    p.show()\n"
     ],
     "language": "python",
     "metadata": {},
     "outputs": [
      {
       "output_type": "stream",
       "stream": "stdout",
       "text": [
        "Welcome to HAC-POC...\n",
        "X =  1  and Y =  2\n",
        "X =  1  and Y =  5\n",
        "X =  2  and Y =  6\n",
        "X =  3  and Y =  1\n",
        "X =  3  and Y =  8\n"
       ]
      }
     ],
     "prompt_number": 6
    },
    {
     "cell_type": "code",
     "collapsed": false,
     "input": [
      "D = []\n",
      "for i in range(len(points)):\n",
      "    for j in range(len(points)):\n",
      "        if i != j:\n",
      "            points[i].show(), \" -> \", points[j].show()\n",
      "            print \"\"\n",
      "            \n",
      "            \n",
      "        \n",
      "        "
     ],
     "language": "python",
     "metadata": {},
     "outputs": [
      {
       "output_type": "stream",
       "stream": "stdout",
       "text": [
        "X =  1  and Y =  2\n",
        "X =  1  and Y =  5\n",
        "\n",
        "X =  1  and Y =  2\n",
        "X =  2  and Y =  6\n",
        "\n",
        "X =  1  and Y =  2\n",
        "X =  3  and Y =  1\n",
        "\n",
        "X =  1  and Y =  2\n",
        "X =  3  and Y =  8\n",
        "\n",
        "X =  1  and Y =  5\n",
        "X =  1  and Y =  2\n",
        "\n",
        "X =  1  and Y =  5\n",
        "X =  2  and Y =  6\n",
        "\n",
        "X =  1  and Y =  5\n",
        "X =  3  and Y =  1\n",
        "\n",
        "X =  1  and Y =  5\n",
        "X =  3  and Y =  8\n",
        "\n",
        "X =  2  and Y =  6\n",
        "X =  1  and Y =  2\n",
        "\n",
        "X =  2  and Y =  6\n",
        "X =  1  and Y =  5\n",
        "\n",
        "X =  2  and Y =  6\n",
        "X =  3  and Y =  1\n",
        "\n",
        "X =  2  and Y =  6\n",
        "X =  3  and Y =  8\n",
        "\n",
        "X =  3  and Y =  1\n",
        "X =  1  and Y =  2\n",
        "\n",
        "X =  3  and Y =  1\n",
        "X =  1  and Y =  5\n",
        "\n",
        "X =  3  and Y =  1\n",
        "X =  2  and Y =  6\n",
        "\n",
        "X =  3  and Y =  1\n",
        "X =  3  and Y =  8\n",
        "\n",
        "X =  3  and Y =  8\n",
        "X =  1  and Y =  2\n",
        "\n",
        "X =  3  and Y =  8\n",
        "X =  1  and Y =  5\n",
        "\n",
        "X =  3  and Y =  8\n",
        "X =  2  and Y =  6\n",
        "\n",
        "X =  3  and Y =  8\n",
        "X =  3  and Y =  1\n",
        "\n"
       ]
      }
     ],
     "prompt_number": 10
    },
    {
     "cell_type": "code",
     "collapsed": false,
     "input": [
      "import matplotlib.pyplot as plt\n",
      "plt.plot([1,2,3,4], [1,4,9,16], 'ro')\n",
      "plt.axis([0, 6, 0, 20])\n",
      "plt.show()"
     ],
     "language": "python",
     "metadata": {},
     "outputs": [
      {
       "metadata": {},
       "output_type": "display_data",
       "png": "[encoded data removed]",
       "text": [
        "<matplotlib.figure.Figure at 0x106331f50>"
       ]
      }
     ],
     "prompt_number": 1
    },
    {
     "cell_type": "code",
     "collapsed": false,
     "input": [
      "n = raw_input(\"Enter the number\")\n",
      "l = r = n\n",
      "s1 = \"\"\n",
      "\n",
      "def f1(l, r, s1):\n",
      "    if r == 0:\n",
      "        print s1\n",
      "        return\n",
      "    if l>0:\n",
      "        f1(l-1, r, s1 + '(')\n",
      "        if l < r:\n",
      "            f1(l, r-1, s1 + ')')\n",
      "    else:\n",
      "        f1(l, r-1, s1 + ')') \n",
      "\n",
      "f1(int(l), int(r), '')"
     ],
     "language": "python",
     "metadata": {},
     "outputs": [
      {
       "name": "stdout",
       "output_type": "stream",
       "stream": "stdout",
       "text": [
        "Enter the number3\n"
       ]
      },
      {
       "output_type": "stream",
       "stream": "stdout",
       "text": [
        "((()))\n",
        "(()())\n",
        "(())()\n",
        "()(())\n",
        "()()()\n"
       ]
      }
     ],
     "prompt_number": 2
    },
    {
     "cell_type": "code",
     "collapsed": false,
     "input": [
      "import numpy as np\n",
      "x = np.array([3,4])\n",
      "np.linalg.norm(x)\n",
      "a = np.array([2,2,2])\n",
      "b = np.array([2,2,2])\n",
      "c = np.dot(a,b)\n",
      "print c\n",
      "\n",
      "\n",
      "sim = float(c) / (np.linalg.norm(a) * np.linalg.norm(b))\n",
      "\n",
      "print sim\n"
     ],
     "language": "python",
     "metadata": {},
     "outputs": [
      {
       "output_type": "stream",
       "stream": "stdout",
       "text": [
        "12\n",
        "1.0\n"
       ]
      }
     ],
     "prompt_number": 16
    },
    {
     "cell_type": "code",
     "collapsed": false,
     "input": [],
     "language": "python",
     "metadata": {},
     "outputs": []
    }
   ],
   "metadata": {}
  }
 ]
}